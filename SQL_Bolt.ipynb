{
 "cells": [
  {
   "cell_type": "markdown",
   "metadata": {
    "collapsed": true
   },
   "source": [
    "# SQL Bolt"
   ]
  },
  {
   "cell_type": "markdown",
   "metadata": {},
   "source": [
    "## Interactive Tutorial"
   ]
  },
  {
   "cell_type": "markdown",
   "metadata": {},
   "source": [
    "https://sqlbolt.com/"
   ]
  },
  {
   "cell_type": "markdown",
   "metadata": {},
   "source": [
    "### Table of Contents\n",
    "1. SELECT queries\n",
    "2. Queries with constraints (Pt. 1)\n",
    "3. Queries with constraints (Pt. 2)\n",
    "4. Filtering and sorting Query results\n",
    "5. Simple SELECT Queries Review\n",
    "6. Multi-table queries with JOINs\n",
    "7. OUTER JOINs\n",
    "8. A short note on NULLs\n",
    "9. Queries with expressions\n",
    "10. Queries with aggregates (Pt. 1)\n",
    "11. Queries with aggregates (Pt. 2)\n",
    "12. Order of execution of a Query\n",
    "13. Inserting rows\n",
    "14. Updating rows\n",
    "15. Deleting rows\n",
    "16. Creating tables\n",
    "17. Altering tables\n",
    "18. Dropping tables\n",
    "19. Subqueries\n",
    "20. Unions, Intersections & Exceptions"
   ]
  },
  {
   "cell_type": "markdown",
   "metadata": {},
   "source": [
    "### SQL Lesson 1: SELECT queries"
   ]
  },
  {
   "cell_type": "markdown",
   "metadata": {},
   "source": [
    "#### Task 1\n",
    "\n",
    "Find the title of each film\n",
    "\n",
    "<span style=\"background-color: silver\">SELECT title FROM movies;</span>"
   ]
  },
  {
   "cell_type": "markdown",
   "metadata": {},
   "source": [
    "#### Task 2\n",
    "Find the director of each film\n",
    "\n",
    "<span style=\"background-color: silver\">SELECT director FROM movies;</span>"
   ]
  },
  {
   "cell_type": "markdown",
   "metadata": {},
   "source": [
    "#### Task 3\n",
    "Find the title and director of each film\n",
    "\n",
    "<span style=\"background-color: silver\">SELECT title, director FROM movies;</span>"
   ]
  },
  {
   "cell_type": "markdown",
   "metadata": {},
   "source": [
    "#### Task 4\n",
    "Find the title and year of each film\n",
    "\n",
    "<span style=\"background-color: silver\">SELECT title, year FROM movies;</span>"
   ]
  },
  {
   "cell_type": "markdown",
   "metadata": {},
   "source": [
    "#### Task 5\n",
    "Find all the information about each film\n",
    "\n",
    "<span style=\"background-color: silver\">SELECT * FROM movies;</span>"
   ]
  },
  {
   "cell_type": "markdown",
   "metadata": {},
   "source": [
    "### SQL Lesson 2: Queries with constraints (Pt. 1)"
   ]
  },
  {
   "cell_type": "markdown",
   "metadata": {},
   "source": [
    "#### Task 1\n",
    "Find the movie with a row id of 6\n",
    "\n",
    "<span style=\"background-color: silver\">SELECT * FROM movies WHERE id = 6;</span>"
   ]
  },
  {
   "cell_type": "markdown",
   "metadata": {},
   "source": [
    "#### Task 2\n",
    "Find the movies released in the years between 2000 and 2010\n",
    "\n",
    "<span style=\"background-color: silver\">SELECT * FROM movies WHERE year BETWEEN 2000 and 2010;</span>"
   ]
  },
  {
   "cell_type": "markdown",
   "metadata": {},
   "source": [
    "#### Task 3\n",
    "Find the movies not released in the years between 2000 and 2010\n",
    "\n",
    "<span style=\"background-color: silver\">SELECT * FROM movies WHERE year NOT BETWEEN 2000 and 2010;</span> "
   ]
  },
  {
   "cell_type": "markdown",
   "metadata": {},
   "source": [
    "#### Task 4\n",
    "Find the first 5 Pixar movies and their release year\n",
    "\n",
    "<span style=\"background-color: silver\">SELECT title, year FROM movies WHERE year < 2004;</span>  "
   ]
  },
  {
   "cell_type": "markdown",
   "metadata": {},
   "source": [
    "### SQL Lesson 3: Queries with constraints (Pt. 2)\n"
   ]
  },
  {
   "cell_type": "markdown",
   "metadata": {},
   "source": [
    "#### Task 1\n",
    "Find all the Toy Story movies\n",
    "\n",
    " <span style=\"background-color: silver\">SELECT * FROM movies WHERE title LIKE 'Toy Story%';</span> "
   ]
  },
  {
   "cell_type": "markdown",
   "metadata": {},
   "source": [
    "#### Task 2\n",
    "Find all the movies directed by John Lasseter\n",
    "\n",
    "<span style=\"background-color: silver\">SELECT * FROM movies WHERE director = 'John Lasseter';</span> "
   ]
  },
  {
   "cell_type": "markdown",
   "metadata": {},
   "source": [
    "#### Task 3\n",
    "Find all the movies (and director) not directed by John Lasseter\n",
    "\n",
    "<span style=\"background-color: silver\">SELECT title, director FROM movies WHERE director != 'John Lasseter';</span> "
   ]
  },
  {
   "cell_type": "markdown",
   "metadata": {},
   "source": [
    "#### Task 4\n",
    "Find all the WALL-* movies\n",
    "\n",
    "<span style=\"background-color: silver\">SELECT * FROM movies WHERE title LIKE 'WALL-%';</span>"
   ]
  },
  {
   "cell_type": "markdown",
   "metadata": {},
   "source": [
    "### SQL Lesson 4: Filtering and sorting Query results"
   ]
  },
  {
   "cell_type": "markdown",
   "metadata": {},
   "source": [
    "#### Task 1\n",
    "List all directors of Pixar movies (alphabetically), without duplicates\n",
    "\n",
    "<span style=\"background-color: silver\">SELECT DISTINCT(director) FROM movies ORDER BY director ASC;</span>"
   ]
  },
  {
   "cell_type": "markdown",
   "metadata": {},
   "source": [
    "#### Task 2\n",
    "List the last four Pixar movies released (ordered from most recent to least)\n",
    "\n",
    "<span style=\"background-color: silver\">SELECT * FROM movies ORDER BY year DESC LIMIT 4;</span>"
   ]
  },
  {
   "cell_type": "markdown",
   "metadata": {},
   "source": [
    "#### Task 3\n",
    "List the first five Pixar movies sorted alphabetically\n",
    "\n",
    "<span style=\"background-color: silver\">SELECT * FROM movies ORDER BY title ASC LIMIT 5;</span>"
   ]
  },
  {
   "cell_type": "markdown",
   "metadata": {},
   "source": [
    "#### Task 4\n",
    "List the next five Pixar movies sorted alphabetically\n",
    "\n",
    "<span style=\"background-color: silver\">SELECT * FROM movies ORDER BY title ASC LIMIT 5 OFFSET 5;;</span>"
   ]
  },
  {
   "cell_type": "markdown",
   "metadata": {},
   "source": [
    "### SQL Lesson 5: Simple SELECT Queries Review"
   ]
  },
  {
   "cell_type": "markdown",
   "metadata": {},
   "source": [
    "#### Task 1\n",
    "List all the Canadian cities and their populations\n",
    "\n",
    "<span style=\"background-color: silver\">SELECT city, country, population FROM north_american_cities WHERE country = 'Canada';</span>"
   ]
  },
  {
   "cell_type": "markdown",
   "metadata": {},
   "source": [
    "#### Task 2\n",
    "Order all the cities in the United States by their latitude from north to south\n",
    "\n",
    "<span style=\"background-color: silver\">SELECT city, country, latitude FROM north_american_cities WHERE country = 'United States' ORDER BY latitude DESC;</span>"
   ]
  },
  {
   "cell_type": "markdown",
   "metadata": {},
   "source": [
    "#### Task 3\n",
    "List all the cities west of Chicago, ordered from west to east\n",
    "\n",
    "<span style=\"background-color: silver\">SELECT city, country, longitude FROM north_american_cities WHERE longitude < -87.629798 ORDER BY longitude ASC;</span>"
   ]
  },
  {
   "cell_type": "markdown",
   "metadata": {},
   "source": [
    "#### Task 4\n",
    "List the two largest cities in Mexico (by population)\n",
    "\n",
    "<span style=\"background-color: silver\">SELECT city, country, population FROM north_american_cities WHERE country = 'Mexico' ORDER BY population DESC LIMIT 2;</span> "
   ]
  },
  {
   "cell_type": "markdown",
   "metadata": {},
   "source": [
    "#### Task 5\n",
    "List the third and fourth largest cities (by population) in the United States and their population\n",
    "\n",
    "<span style=\"background-color: silver\">SELECT city, country, population FROM north_american_cities WHERE country = 'United States' ORDER BY population DESC LIMIT 2 OFFSET 2;</span>"
   ]
  },
  {
   "cell_type": "markdown",
   "metadata": {},
   "source": [
    "### SQL Lesson 6: Multi-table queries with JOINs"
   ]
  },
  {
   "cell_type": "markdown",
   "metadata": {},
   "source": [
    "#### Task 1\n",
    "Find the domestic and international sales for each movie\n",
    "\n",
    "<span style=\"background-color: silver\">SELECT title, domestic_sales, international_sales FROM movies INNER JOIN boxoffice ON movies.id = boxoffice.movie_id;;</span> "
   ]
  },
  {
   "cell_type": "markdown",
   "metadata": {},
   "source": [
    "#### Task 2\n",
    "Show the sales numbers for each movie that did better internationally rather than domestically\n",
    "\n",
    "<span style=\"background-color: silver\">SELECT title, domestic_sales, international_sales FROM movies INNER JOIN boxoffice ON movies.id = boxoffice.movie_id WHERE international_sales > domestic_sales;</span> "
   ]
  },
  {
   "cell_type": "markdown",
   "metadata": {},
   "source": [
    "#### Task 3\n",
    "List all the movies by their ratings in descending order\n",
    "\n",
    "<span style=\"background-color: silver\">SELECT title, rating FROM movies INNER JOIN boxoffice ON movies.id = boxoffice.movie_id ORDER BY rating DESC;</span> "
   ]
  },
  {
   "cell_type": "markdown",
   "metadata": {},
   "source": [
    "### SQL Lesson 7: OUTER JOINs"
   ]
  },
  {
   "cell_type": "markdown",
   "metadata": {},
   "source": [
    "#### Task 1\n",
    "Find the list of all buildings that have employees\n",
    "\n",
    "<span style=\"background-color: silver\">SELECT DISTINCT(building_name) FROM buildings AS l INNER JOIN employees AS r ON l.building_name = r.building;</span> "
   ]
  },
  {
   "cell_type": "markdown",
   "metadata": {},
   "source": [
    "#### Task 2\n",
    "Find the list of all buildings and their capacity\n",
    "\n",
    "<span style=\"background-color: silver\">SELECT DISTINCT(building_name), capacity FROM buildings AS l LEFT JOIN employees AS r ON l.building_name = r.building;</span>  "
   ]
  },
  {
   "cell_type": "markdown",
   "metadata": {},
   "source": [
    "#### Task 3\n",
    "List all buildings and the distinct employee roles in each building (including empty buildings)\n",
    "\n",
    "<span style=\"background-color: silver\">SELECT DISTINCT(building_name), role FROM buildings AS l LEFT JOIN employees AS r ON l.building_name = r.building;</span>  "
   ]
  },
  {
   "cell_type": "markdown",
   "metadata": {},
   "source": [
    "### SQL Lesson 8: A short note on NULLs"
   ]
  },
  {
   "cell_type": "markdown",
   "metadata": {},
   "source": [
    "#### Task 1\n",
    "Find the name and role of all employees who have not been assigned to a building\n",
    "\n",
    "<span style=\"background-color: silver\">SELECT name, role, building FROM employees WHERE building IS NULL;</span>   "
   ]
  },
  {
   "cell_type": "markdown",
   "metadata": {},
   "source": [
    "#### Task 2\n",
    "Find the names of the buildings that hold no employees\n",
    "\n",
    "<span style=\"background-color: silver\"> SELECT building_name, name FROM buildings AS l LEFT JOIN employees AS r ON l.building_name = r.building WHERE name IS NULL;</span>"
   ]
  },
  {
   "cell_type": "markdown",
   "metadata": {},
   "source": [
    "### SQL Lesson 9: Queries with expressions"
   ]
  },
  {
   "cell_type": "markdown",
   "metadata": {},
   "source": [
    "#### Task 1\n",
    "List all movies and their combined sales in millions of dollars\n",
    "\n",
    "<span style=\"background-color: silver\">SELECT title, (domestic_sales + international_sales) / 1000000 AS combined_sales FROM movies INNER JOIN boxoffice ON movies.id = boxoffice.movie_id ORDER BY combined_sales DESC;</span> "
   ]
  },
  {
   "cell_type": "markdown",
   "metadata": {},
   "source": [
    "#### Task 2\n",
    "List all movies and their ratings in percent\n",
    "\n",
    "<span style=\"background-color: silver\">SELECT title, rating * 10 AS ratings_pct FROM movies INNER JOIN boxoffice ON movies.id = boxoffice.movie_id ORDER BY ratings_pct DESC;</span>  "
   ]
  },
  {
   "cell_type": "markdown",
   "metadata": {},
   "source": [
    "#### Task 3\n",
    "List all movies that were released on even number years\n",
    "\n",
    "<span style=\"background-color: silver\">SELECT title, year FROM movies WHERE year % 2 = 0 ORDER BY year ASC;</span>  "
   ]
  },
  {
   "cell_type": "markdown",
   "metadata": {},
   "source": [
    "### SQL Lesson 10: Queries with aggregates (Pt. 1)"
   ]
  },
  {
   "cell_type": "markdown",
   "metadata": {},
   "source": [
    "#### Task 1\n",
    "Find the longest time that an employee has been at the studio\n",
    "\n",
    "<span style=\"background-color: silver\">SELECT MAX(years_employed) FROM employees;</span>"
   ]
  },
  {
   "cell_type": "markdown",
   "metadata": {},
   "source": [
    "#### Task 2\n",
    "For each role, find the average number of years employed by employees in that role\n",
    "\n",
    "<span style=\"background-color: silver\">SELECT role, AVG(years_employed) AS avg_years_empl FROM employees GROUP BY role;</span> "
   ]
  },
  {
   "cell_type": "markdown",
   "metadata": {},
   "source": [
    "#### Task 3\n",
    "Find the total number of employee years worked in each building\n",
    "\n",
    "<span style=\"background-color: silver\">SELECT building, SUM(years_employed) FROM employees GROUP BY building;</span> "
   ]
  },
  {
   "cell_type": "markdown",
   "metadata": {},
   "source": [
    "### SQL Lesson 11: Queries with aggregates (Pt. 2)"
   ]
  },
  {
   "cell_type": "markdown",
   "metadata": {},
   "source": [
    "#### Task 1\n",
    "Find the number of Artists in the studio (without a HAVING clause)\n",
    "\n",
    "<span style=\"background-color: silver\">SELECT COUNT(role) FROM employees WHERE role = 'Artist';</span> "
   ]
  },
  {
   "cell_type": "markdown",
   "metadata": {},
   "source": [
    "#### Task 2\n",
    "Find the number of Employees of each role in the studio\n",
    "\n",
    "<span style=\"background-color: silver\">SELECT role, COUNT(role) FROM employees GROUP BY role;</span> "
   ]
  },
  {
   "cell_type": "markdown",
   "metadata": {},
   "source": [
    "#### Task 3\n",
    "Find the total number of years employed by all Engineers\n",
    "\n",
    "<span style=\"background-color: silver\">SELECT role, SUM(years_employed) FROM employees GROUP BY role HAVING role = 'Engineer';</span> "
   ]
  },
  {
   "cell_type": "markdown",
   "metadata": {},
   "source": [
    "### SQL Lesson 12: Order of execution of a Query"
   ]
  },
  {
   "cell_type": "markdown",
   "metadata": {},
   "source": [
    "#### Task 1\n",
    "Find the number of movies each director has directed\n",
    "\n",
    "<span style=\"background-color: silver\">SELECT director, COUNT(title) AS num_movies FROM movies GROUP BY director ORDER BY num_movies DESC;</span> "
   ]
  },
  {
   "cell_type": "markdown",
   "metadata": {},
   "source": [
    "#### Task 2\n",
    "Find the total domestic and international sales that can be attributed to each director\n",
    "\n",
    "<span style=\"background-color: silver\">SELECT director, SUM(domestic_sales) + SUM(international_sales) AS total_revenue FROM movies AS l LEFT JOIN boxoffice AS r ON l.id = r.movie_id GROUP BY director ORDER BY total_revenue DESC;</span> "
   ]
  },
  {
   "cell_type": "markdown",
   "metadata": {},
   "source": [
    "### SQL Lesson 13: Inserting rows"
   ]
  },
  {
   "cell_type": "markdown",
   "metadata": {},
   "source": [
    "#### Task 1\n",
    "Add the studio's new production, Toy Story 4 to the list of movies (you can use any director)\n",
    "\n",
    "<span style=\"background-color: silver\">INSERT INTO movies (title, director, year, length_minutes) VALUES ('Toy Story 4', 'Josh Cooley', 2019, 100);</span> "
   ]
  },
  {
   "cell_type": "markdown",
   "metadata": {},
   "source": [
    "#### Task 2\n",
    "Toy Story 4 has been released to critical acclaim! It had a rating of 8.7, and made 340 million domestically and 270 million internationally. Add the record to the BoxOffice table.\n",
    "\n",
    "<span style=\"background-color: silver\">INSERT INTO boxoffice (movie_id, rating, domestic_sales, international_sales) VALUES (15, 8.7, 340000000, 270000000);</span> "
   ]
  },
  {
   "cell_type": "markdown",
   "metadata": {},
   "source": [
    "### SQL Lesson 14: Updating rows"
   ]
  },
  {
   "cell_type": "markdown",
   "metadata": {},
   "source": [
    "#### Task 1\n",
    "The director for A Bug's Life is incorrect, it was actually directed by John Lasseter\n",
    "\n",
    "<span style=\"background-color: silver\">UPDATE movies SET director = 'John Lasseter' WHERE title = \"A Bug's Life\";</span> "
   ]
  },
  {
   "cell_type": "markdown",
   "metadata": {},
   "source": [
    "#### Task 2\n",
    "The year that Toy Story 2 was released is incorrect, it was actually released in 1999\n",
    "\n",
    "<span style=\"background-color: silver\">UPDATE movies SET year = 1999 WHERE title = 'Toy Story 2';</span>"
   ]
  },
  {
   "cell_type": "markdown",
   "metadata": {},
   "source": [
    "#### Task 3\n",
    "Both the title and director for Toy Story 8 is incorrect! The title should be \"Toy Story 3\" and it was directed by Lee Unkrich\n",
    "\n",
    "<span style=\"background-color: silver\">UPDATE movies SET title = 'Toy Story 3', director = 'Lee Unkrich' WHERE title = 'Toy Story 8';</span>"
   ]
  },
  {
   "cell_type": "markdown",
   "metadata": {},
   "source": [
    "### SQL Lesson 15: Deleting rows"
   ]
  },
  {
   "cell_type": "markdown",
   "metadata": {},
   "source": [
    "#### Task 1\n",
    "This database is getting too big, lets remove all movies that were released before 2005\n",
    "\n",
    "<span style=\"background-color: silver\">DELETE FROM movies WHERE year < 2005;</span>"
   ]
  },
  {
   "cell_type": "markdown",
   "metadata": {},
   "source": [
    "#### Task 2\n",
    "Andrew Stanton has also left the studio, so please remove all movies directed by him\n",
    "\n",
    "<span style=\"background-color: silver\">DELETE FROM movies WHERE director = 'Andrew Stanton';</span> "
   ]
  },
  {
   "cell_type": "markdown",
   "metadata": {},
   "source": [
    "### SQL Lesson 16: Creating tables"
   ]
  },
  {
   "cell_type": "markdown",
   "metadata": {},
   "source": [
    "#### Task 1\n",
    "Create a new table named Database with the following columns:\n",
    "\n",
    "Name A string (text) describing the name of the database\n",
    "Version A number (floating point) of the latest version of this database\n",
    "Download_count An integer count of the number of times this database was downloaded\n",
    "This table has no constraints.\n",
    "\n",
    "<span style=\"background-color: silver\">CREATE TABLE IF NOT EXISTS Database ( Name text, Version float, Download_count int );</span> "
   ]
  },
  {
   "cell_type": "markdown",
   "metadata": {},
   "source": [
    "### SQL Lesson 17: Altering tables"
   ]
  },
  {
   "cell_type": "markdown",
   "metadata": {},
   "source": [
    "#### Task 1\n",
    "Add a column named Aspect_ratio with a FLOAT data type to store the aspect-ratio each movie was released in.\n",
    "\n",
    "<span style=\"background-color: silver\">ALTER TABLE movies ADD Aspect_ratio float;</span> "
   ]
  },
  {
   "cell_type": "markdown",
   "metadata": {},
   "source": [
    "#### Task 2\n",
    "Add another column named Language with a TEXT data type to store the language that the movie was released in. Ensure that the default for this language is English.\n",
    "\n",
    "<span style=\"background-color: silver\">ALTER TABLE movies ADD Language text DEFAULT 'English';</span> "
   ]
  },
  {
   "cell_type": "markdown",
   "metadata": {},
   "source": [
    "#### Task 3\n",
    "Altering table to remove column(s).\n",
    "\n",
    "<span style=\"background-color: silver\">ALTER TABLE mytable DROP column_to_be_deleted;</span> "
   ]
  },
  {
   "cell_type": "markdown",
   "metadata": {},
   "source": [
    "#### Task 4\n",
    "Rename the table itself.\n",
    "\n",
    "<span style=\"background-color: silver\">ALTER TABLE mytable RENAME TO new_table_name;</span> "
   ]
  },
  {
   "cell_type": "markdown",
   "metadata": {},
   "source": [
    "### SQL Lesson 18: Dropping tables\n"
   ]
  },
  {
   "cell_type": "markdown",
   "metadata": {},
   "source": [
    "#### Task 1\n",
    "We've sadly reached the end of our lessons, lets clean up by removing the Movies table\n",
    "\n",
    "<span style=\"background-color: silver\">DROP TABLE IF EXISTS movies;</span>"
   ]
  },
  {
   "cell_type": "markdown",
   "metadata": {},
   "source": [
    "#### Task 2\n",
    "And drop the BoxOffice table as well\n",
    "\n",
    "<span style=\"background-color: silver\">DROP TABLE IF EXISTS boxoffice;</span>"
   ]
  },
  {
   "cell_type": "markdown",
   "metadata": {},
   "source": [
    "### SQL Lesson 19: Subqueries"
   ]
  },
  {
   "cell_type": "markdown",
   "metadata": {},
   "source": [
    "#### Task 1\n",
    "Find out which of your Associates are costing the company more than the average revenue brought per Associate.\n",
    "\n",
    "<span style=\"background-color: silver\">SELECT * FROM sales_associates WHERE salary > ( SELECT AVG(revenue_generated) FROM sales_associates );</span>"
   ]
  },
  {
   "cell_type": "markdown",
   "metadata": {},
   "source": [
    "#### Task 2\n",
    "For each employee, you would need to calculate their cost relative to the average revenue generated by all people in their department.\n",
    "\n",
    "<span style=\"background-color: silver\">SELECT * FROM employees WHERE salary > ( SELECT AVG(revenue_generated) FROM employees AS dept_employees WHERE dept_employees.department = employees.department );</span>"
   ]
  },
  {
   "cell_type": "markdown",
   "metadata": {},
   "source": [
    "### SQL Extra: Unions, Intersections & Exceptions"
   ]
  },
  {
   "cell_type": "markdown",
   "metadata": {},
   "source": [
    "The UNION and UNION ALL operator allows you to append the results of one query to another assuming that they have the same column count, order and data type. If you use the UNION without the ALL, duplicate rows between the tables will be removed from the result.\n",
    "\n",
    "The INTERSECT operator will ensure that only rows that are identical in both result sets are returned.\n",
    "\n",
    "The EXCEPT operator will ensure that only rows in the first result set that aren't in the second are returned.\n",
    "\n",
    "Both INTERSECT and EXCEPT also discard duplicate rows after their respective operations, though some databases also support INTERSECT ALL and EXCEPT ALL to allow duplicates to be retained and returned.\n",
    "\n",
    "-- Select query with set operators\n",
    "\n",
    "SELECT column, another_column FROM mytable UNION / UNION ALL / INTERSECT / EXCEPT SELECT other_column, yet_another_column FROM another_table ORDER BY column DESC LIMIT n;"
   ]
  },
  {
   "cell_type": "code",
   "execution_count": null,
   "metadata": {
    "collapsed": true
   },
   "outputs": [],
   "source": []
  },
  {
   "cell_type": "code",
   "execution_count": null,
   "metadata": {
    "collapsed": true
   },
   "outputs": [],
   "source": []
  },
  {
   "cell_type": "code",
   "execution_count": null,
   "metadata": {
    "collapsed": true
   },
   "outputs": [],
   "source": []
  },
  {
   "cell_type": "code",
   "execution_count": null,
   "metadata": {
    "collapsed": true
   },
   "outputs": [],
   "source": []
  },
  {
   "cell_type": "code",
   "execution_count": null,
   "metadata": {
    "collapsed": true
   },
   "outputs": [],
   "source": []
  }
 ],
 "metadata": {
  "kernelspec": {
   "display_name": "Python 3",
   "language": "python",
   "name": "python3"
  },
  "language_info": {
   "codemirror_mode": {
    "name": "ipython",
    "version": 3
   },
   "file_extension": ".py",
   "mimetype": "text/x-python",
   "name": "python",
   "nbconvert_exporter": "python",
   "pygments_lexer": "ipython3",
   "version": "3.6.1"
  }
 },
 "nbformat": 4,
 "nbformat_minor": 2
}
